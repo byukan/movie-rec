{
 "cells": [
  {
   "cell_type": "markdown",
   "metadata": {},
   "source": [
    "# Calculating Similarity\n",
    "\n",
    "create some transformer embedded vectors, then use a cosine similarity"
   ]
  },
  {
   "cell_type": "code",
   "execution_count": 1,
   "metadata": {},
   "outputs": [
    {
     "data": {
      "text/html": [
       "<div>\n",
       "<style scoped>\n",
       "    .dataframe tbody tr th:only-of-type {\n",
       "        vertical-align: middle;\n",
       "    }\n",
       "\n",
       "    .dataframe tbody tr th {\n",
       "        vertical-align: top;\n",
       "    }\n",
       "\n",
       "    .dataframe thead th {\n",
       "        text-align: right;\n",
       "    }\n",
       "</style>\n",
       "<table border=\"1\" class=\"dataframe\">\n",
       "  <thead>\n",
       "    <tr style=\"text-align: right;\">\n",
       "      <th></th>\n",
       "      <th>Series_Title</th>\n",
       "      <th>Overview</th>\n",
       "    </tr>\n",
       "  </thead>\n",
       "  <tbody>\n",
       "    <tr>\n",
       "      <th>0</th>\n",
       "      <td>The Shawshank Redemption</td>\n",
       "      <td>Two imprisoned men bond over a number of years, finding solace and eventual redemption through acts of common decency.</td>\n",
       "    </tr>\n",
       "    <tr>\n",
       "      <th>1</th>\n",
       "      <td>The Godfather</td>\n",
       "      <td>An organized crime dynasty's aging patriarch transfers control of his clandestine empire to his reluctant son.</td>\n",
       "    </tr>\n",
       "    <tr>\n",
       "      <th>2</th>\n",
       "      <td>The Dark Knight</td>\n",
       "      <td>When the menace known as the Joker wreaks havoc and chaos on the people of Gotham, Batman must accept one of the greatest psychological and physical tests of his ability to fight injustice.</td>\n",
       "    </tr>\n",
       "    <tr>\n",
       "      <th>3</th>\n",
       "      <td>The Godfather: Part II</td>\n",
       "      <td>The early life and career of Vito Corleone in 1920s New York City is portrayed, while his son, Michael, expands and tightens his grip on the family crime syndicate.</td>\n",
       "    </tr>\n",
       "    <tr>\n",
       "      <th>4</th>\n",
       "      <td>12 Angry Men</td>\n",
       "      <td>A jury holdout attempts to prevent a miscarriage of justice by forcing his colleagues to reconsider the evidence.</td>\n",
       "    </tr>\n",
       "    <tr>\n",
       "      <th>5</th>\n",
       "      <td>The Lord of the Rings: The Return of the King</td>\n",
       "      <td>Gandalf and Aragorn lead the World of Men against Sauron's army to draw his gaze from Frodo and Sam as they approach Mount Doom with the One Ring.</td>\n",
       "    </tr>\n",
       "    <tr>\n",
       "      <th>6</th>\n",
       "      <td>Pulp Fiction</td>\n",
       "      <td>The lives of two mob hitmen, a boxer, a gangster and his wife, and a pair of diner bandits intertwine in four tales of violence and redemption.</td>\n",
       "    </tr>\n",
       "    <tr>\n",
       "      <th>7</th>\n",
       "      <td>Schindler's List</td>\n",
       "      <td>In German-occupied Poland during World War II, industrialist Oskar Schindler gradually becomes concerned for his Jewish workforce after witnessing their persecution by the Nazis.</td>\n",
       "    </tr>\n",
       "    <tr>\n",
       "      <th>8</th>\n",
       "      <td>Inception</td>\n",
       "      <td>A thief who steals corporate secrets through the use of dream-sharing technology is given the inverse task of planting an idea into the mind of a C.E.O.</td>\n",
       "    </tr>\n",
       "    <tr>\n",
       "      <th>9</th>\n",
       "      <td>Fight Club</td>\n",
       "      <td>An insomniac office worker and a devil-may-care soapmaker form an underground fight club that evolves into something much, much more.</td>\n",
       "    </tr>\n",
       "  </tbody>\n",
       "</table>\n",
       "</div>"
      ],
      "text/plain": [
       "                                    Series_Title  \\\n",
       "0                       The Shawshank Redemption   \n",
       "1                                  The Godfather   \n",
       "2                                The Dark Knight   \n",
       "3                         The Godfather: Part II   \n",
       "4                                   12 Angry Men   \n",
       "5  The Lord of the Rings: The Return of the King   \n",
       "6                                   Pulp Fiction   \n",
       "7                               Schindler's List   \n",
       "8                                      Inception   \n",
       "9                                     Fight Club   \n",
       "\n",
       "                                                                                                                                                                                        Overview  \n",
       "0                                                                         Two imprisoned men bond over a number of years, finding solace and eventual redemption through acts of common decency.  \n",
       "1                                                                                 An organized crime dynasty's aging patriarch transfers control of his clandestine empire to his reluctant son.  \n",
       "2  When the menace known as the Joker wreaks havoc and chaos on the people of Gotham, Batman must accept one of the greatest psychological and physical tests of his ability to fight injustice.  \n",
       "3                           The early life and career of Vito Corleone in 1920s New York City is portrayed, while his son, Michael, expands and tightens his grip on the family crime syndicate.  \n",
       "4                                                                              A jury holdout attempts to prevent a miscarriage of justice by forcing his colleagues to reconsider the evidence.  \n",
       "5                                             Gandalf and Aragorn lead the World of Men against Sauron's army to draw his gaze from Frodo and Sam as they approach Mount Doom with the One Ring.  \n",
       "6                                                The lives of two mob hitmen, a boxer, a gangster and his wife, and a pair of diner bandits intertwine in four tales of violence and redemption.  \n",
       "7             In German-occupied Poland during World War II, industrialist Oskar Schindler gradually becomes concerned for his Jewish workforce after witnessing their persecution by the Nazis.  \n",
       "8                                       A thief who steals corporate secrets through the use of dream-sharing technology is given the inverse task of planting an idea into the mind of a C.E.O.  \n",
       "9                                                          An insomniac office worker and a devil-may-care soapmaker form an underground fight club that evolves into something much, much more.  "
      ]
     },
     "execution_count": 1,
     "metadata": {},
     "output_type": "execute_result"
    }
   ],
   "source": [
    "import h\n",
    "import pandas as pd\n",
    "pd.set_option('display.max_colwidth', None)\n",
    "# use movies dataset\n",
    "df = pd.read_csv('../data/imdb_top_1000.csv')#.head(10)\n",
    "df['title_overview'] = df['Series_Title'] + ' ' + df['Overview']\n",
    "df[['Series_Title', 'Overview']].head(10)"
   ]
  },
  {
   "cell_type": "code",
   "execution_count": 2,
   "metadata": {},
   "outputs": [],
   "source": [
    "# sentences = df['Overview']\n",
    "# h.compute_similarity(0, sentences)\n",
    "\n",
    "# df['similar_movies'] = pd.Series(df.index).apply(lambda x: h.compute_similarity(x, df['Overview']))\n",
    "# df['similar_movies']"
   ]
  },
  {
   "cell_type": "code",
   "execution_count": 3,
   "metadata": {},
   "outputs": [
    {
     "data": {
      "text/plain": [
       "array([[-0.42897072,  0.39082983,  1.4352702 , ...,  0.8727772 ,\n",
       "        -0.27758625, -0.52901405],\n",
       "       [-0.31057072,  0.7643628 ,  0.72591037, ..., -0.5141307 ,\n",
       "        -0.23639445, -0.29770607],\n",
       "       [-0.5239642 ,  0.2013199 ,  0.32214215, ..., -0.29536867,\n",
       "        -0.31208324, -0.51214534],\n",
       "       ...,\n",
       "       [-0.6130735 ,  0.62725097, -0.10875668, ..., -0.10114583,\n",
       "         0.1711134 , -0.06715756],\n",
       "       [-0.5834191 ,  0.05922156, -0.9729282 , ..., -0.59030604,\n",
       "         0.17073274, -0.07679442],\n",
       "       [-0.3590858 ,  0.66717935,  0.75014377, ..., -1.3990557 ,\n",
       "        -0.4917294 ,  0.39107534]], dtype=float32)"
      ]
     },
     "execution_count": 3,
     "metadata": {},
     "output_type": "execute_result"
    }
   ],
   "source": [
    "sentence_embeddings = h.sentence_transformer_similarity(df['title_overview'])\n",
    "sentence_embeddings"
   ]
  },
  {
   "cell_type": "code",
   "execution_count": 4,
   "metadata": {},
   "outputs": [],
   "source": [
    "from sklearn.metrics.pairwise import cosine_similarity\n",
    "def list_similarity_scores(main_index, embeddings):\n",
    "    similarity_scores = cosine_similarity(\n",
    "        [sentence_embeddings[main_index]],\n",
    "        sentence_embeddings)\n",
    "    ranked_list = sorted([(i, x) for i, x in enumerate(similarity_scores[0])], key=lambda x: x[1], reverse=True)\n",
    "    return ranked_list[:10]"
   ]
  },
  {
   "cell_type": "code",
   "execution_count": 16,
   "metadata": {},
   "outputs": [
    {
     "data": {
      "text/plain": [
       "[(0, 0.99999976),\n",
       " (532, 0.70702296),\n",
       " (763, 0.70188177),\n",
       " (391, 0.68108857),\n",
       " (267, 0.677529),\n",
       " (282, 0.6744362),\n",
       " (167, 0.6739683),\n",
       " (203, 0.67307293),\n",
       " (88, 0.65801036),\n",
       " (505, 0.65431154)]"
      ]
     },
     "execution_count": 16,
     "metadata": {},
     "output_type": "execute_result"
    }
   ],
   "source": [
    "df['similarity_scores'] = pd.Series(df.index).apply(lambda x: list_similarity_scores(x, df['Overview']))\n",
    "df['similarity_scores'][0]"
   ]
  },
  {
   "cell_type": "code",
   "execution_count": 15,
   "metadata": {},
   "outputs": [
    {
     "data": {
      "text/plain": [
       "[('The Shawshank Redemption',\n",
       "  'Two imprisoned men bond over a number of years, finding solace and eventual redemption through acts of common decency.'),\n",
       " ('The Blues Brothers',\n",
       "  'Jake Blues, just released from prison, puts together his old band to save the Catholic home where he and his brother Elwood were raised.'),\n",
       " ('This Is England',\n",
       "  'A young boy becomes friends with a gang of skinheads. Friends soon become like family, and relationships will be pushed to the very limit.'),\n",
       " ('Sling Blade',\n",
       "  'Karl Childers, a simple man hospitalized since his childhood murder of his mother and her lover, is released to start a new life in a small town.'),\n",
       " ('Stand by Me',\n",
       "  'After the death of one of his friends, a writer recounts a childhood journey with his friends to find the body of a missing boy.'),\n",
       " ('Zerkalo',\n",
       "  'A dying man in his forties remembers his past. His childhood, his mother, the war, personal moments and things that tell of the recent history of all the Russian nation.'),\n",
       " ('Unforgiven',\n",
       "  'Retired Old West gunslinger William Munny reluctantly takes on one last job, with the help of his old partner Ned Logan and a young man, The \"Schofield Kid.\"'),\n",
       " ('Room',\n",
       "  'Held captive for 7 years in an enclosed space, a woman and her young son finally gain their freedom, allowing the boy to experience the outside world for the first time.'),\n",
       " ('Jagten',\n",
       "  \"A teacher lives a lonely life, all the while struggling over his son's custody. His life slowly gets better as he finds love and receives good news from his son, but his new luck is about to be brutally shattered by an innocent little lie.\"),\n",
       " ('Mystic River',\n",
       "  'The lives of three men who were childhood friends are shattered when one of them has a family tragedy.')]"
      ]
     },
     "execution_count": 15,
     "metadata": {},
     "output_type": "execute_result"
    }
   ],
   "source": [
    "df['similar_movies'] = pd.Series(df.index).apply(lambda y: [(df['Series_Title'][int(x)], df['Overview'][int(x)]) for x in [x[0] for x in df['similarity_scores'][y]]])\n",
    "df['similar_movies'][0]"
   ]
  },
  {
   "cell_type": "code",
   "execution_count": 8,
   "metadata": {},
   "outputs": [],
   "source": [
    "df[['similar_movies', 'similarity_scores', 'Series_Title',\n",
    " 'Released_Year',\n",
    " 'Certificate',\n",
    " 'Runtime',\n",
    " 'Genre',\n",
    " 'IMDB_Rating',\n",
    " 'Overview',\n",
    " 'Meta_score',\n",
    " 'Director',\n",
    " 'Star1',\n",
    " 'Star2',\n",
    " 'Star3',\n",
    " 'Star4',\n",
    " 'No_of_Votes',\n",
    " 'Gross',\n",
    " 'Poster_Link']].to_csv('similar_movies_df.csv')"
   ]
  },
  {
   "cell_type": "code",
   "execution_count": null,
   "metadata": {},
   "outputs": [],
   "source": []
  }
 ],
 "metadata": {
  "kernelspec": {
   "display_name": "ML",
   "language": "python",
   "name": "ml"
  },
  "language_info": {
   "codemirror_mode": {
    "name": "ipython",
    "version": 3
   },
   "file_extension": ".py",
   "mimetype": "text/x-python",
   "name": "python",
   "nbconvert_exporter": "python",
   "pygments_lexer": "ipython3",
   "version": "3.8.5"
  }
 },
 "nbformat": 4,
 "nbformat_minor": 4
}
