{
 "cells": [
  {
   "cell_type": "markdown",
   "metadata": {},
   "source": [
    "# Calculating Similarity\n",
    "\n",
    "create some transformer embedded vectors, then use a cosine similarity"
   ]
  },
  {
   "cell_type": "code",
   "execution_count": 1,
   "metadata": {},
   "outputs": [
    {
     "data": {
      "text/html": [
       "<div>\n",
       "<style scoped>\n",
       "    .dataframe tbody tr th:only-of-type {\n",
       "        vertical-align: middle;\n",
       "    }\n",
       "\n",
       "    .dataframe tbody tr th {\n",
       "        vertical-align: top;\n",
       "    }\n",
       "\n",
       "    .dataframe thead th {\n",
       "        text-align: right;\n",
       "    }\n",
       "</style>\n",
       "<table border=\"1\" class=\"dataframe\">\n",
       "  <thead>\n",
       "    <tr style=\"text-align: right;\">\n",
       "      <th></th>\n",
       "      <th>Series_Title</th>\n",
       "      <th>Overview</th>\n",
       "    </tr>\n",
       "  </thead>\n",
       "  <tbody>\n",
       "    <tr>\n",
       "      <th>0</th>\n",
       "      <td>The Shawshank Redemption</td>\n",
       "      <td>Two imprisoned men bond over a number of years, finding solace and eventual redemption through acts of common decency.</td>\n",
       "    </tr>\n",
       "    <tr>\n",
       "      <th>1</th>\n",
       "      <td>The Godfather</td>\n",
       "      <td>An organized crime dynasty's aging patriarch transfers control of his clandestine empire to his reluctant son.</td>\n",
       "    </tr>\n",
       "    <tr>\n",
       "      <th>2</th>\n",
       "      <td>The Dark Knight</td>\n",
       "      <td>When the menace known as the Joker wreaks havoc and chaos on the people of Gotham, Batman must accept one of the greatest psychological and physical tests of his ability to fight injustice.</td>\n",
       "    </tr>\n",
       "    <tr>\n",
       "      <th>3</th>\n",
       "      <td>The Godfather: Part II</td>\n",
       "      <td>The early life and career of Vito Corleone in 1920s New York City is portrayed, while his son, Michael, expands and tightens his grip on the family crime syndicate.</td>\n",
       "    </tr>\n",
       "    <tr>\n",
       "      <th>4</th>\n",
       "      <td>12 Angry Men</td>\n",
       "      <td>A jury holdout attempts to prevent a miscarriage of justice by forcing his colleagues to reconsider the evidence.</td>\n",
       "    </tr>\n",
       "    <tr>\n",
       "      <th>5</th>\n",
       "      <td>The Lord of the Rings: The Return of the King</td>\n",
       "      <td>Gandalf and Aragorn lead the World of Men against Sauron's army to draw his gaze from Frodo and Sam as they approach Mount Doom with the One Ring.</td>\n",
       "    </tr>\n",
       "    <tr>\n",
       "      <th>6</th>\n",
       "      <td>Pulp Fiction</td>\n",
       "      <td>The lives of two mob hitmen, a boxer, a gangster and his wife, and a pair of diner bandits intertwine in four tales of violence and redemption.</td>\n",
       "    </tr>\n",
       "    <tr>\n",
       "      <th>7</th>\n",
       "      <td>Schindler's List</td>\n",
       "      <td>In German-occupied Poland during World War II, industrialist Oskar Schindler gradually becomes concerned for his Jewish workforce after witnessing their persecution by the Nazis.</td>\n",
       "    </tr>\n",
       "    <tr>\n",
       "      <th>8</th>\n",
       "      <td>Inception</td>\n",
       "      <td>A thief who steals corporate secrets through the use of dream-sharing technology is given the inverse task of planting an idea into the mind of a C.E.O.</td>\n",
       "    </tr>\n",
       "    <tr>\n",
       "      <th>9</th>\n",
       "      <td>Fight Club</td>\n",
       "      <td>An insomniac office worker and a devil-may-care soapmaker form an underground fight club that evolves into something much, much more.</td>\n",
       "    </tr>\n",
       "  </tbody>\n",
       "</table>\n",
       "</div>"
      ],
      "text/plain": [
       "                                    Series_Title  \\\n",
       "0                       The Shawshank Redemption   \n",
       "1                                  The Godfather   \n",
       "2                                The Dark Knight   \n",
       "3                         The Godfather: Part II   \n",
       "4                                   12 Angry Men   \n",
       "5  The Lord of the Rings: The Return of the King   \n",
       "6                                   Pulp Fiction   \n",
       "7                               Schindler's List   \n",
       "8                                      Inception   \n",
       "9                                     Fight Club   \n",
       "\n",
       "                                                                                                                                                                                        Overview  \n",
       "0                                                                         Two imprisoned men bond over a number of years, finding solace and eventual redemption through acts of common decency.  \n",
       "1                                                                                 An organized crime dynasty's aging patriarch transfers control of his clandestine empire to his reluctant son.  \n",
       "2  When the menace known as the Joker wreaks havoc and chaos on the people of Gotham, Batman must accept one of the greatest psychological and physical tests of his ability to fight injustice.  \n",
       "3                           The early life and career of Vito Corleone in 1920s New York City is portrayed, while his son, Michael, expands and tightens his grip on the family crime syndicate.  \n",
       "4                                                                              A jury holdout attempts to prevent a miscarriage of justice by forcing his colleagues to reconsider the evidence.  \n",
       "5                                             Gandalf and Aragorn lead the World of Men against Sauron's army to draw his gaze from Frodo and Sam as they approach Mount Doom with the One Ring.  \n",
       "6                                                The lives of two mob hitmen, a boxer, a gangster and his wife, and a pair of diner bandits intertwine in four tales of violence and redemption.  \n",
       "7             In German-occupied Poland during World War II, industrialist Oskar Schindler gradually becomes concerned for his Jewish workforce after witnessing their persecution by the Nazis.  \n",
       "8                                       A thief who steals corporate secrets through the use of dream-sharing technology is given the inverse task of planting an idea into the mind of a C.E.O.  \n",
       "9                                                          An insomniac office worker and a devil-may-care soapmaker form an underground fight club that evolves into something much, much more.  "
      ]
     },
     "execution_count": 1,
     "metadata": {},
     "output_type": "execute_result"
    }
   ],
   "source": [
    "import h\n",
    "import pandas as pd\n",
    "pd.set_option('display.max_colwidth', None)\n",
    "# use movies dataset\n",
    "df = pd.read_csv('../data/imdb_top_1000.csv')#.head(10)\n",
    "df['title_overview'] = df['Series_Title'] + ' ' + df['Overview']\n",
    "df[['Series_Title', 'Overview']].head(10)"
   ]
  },
  {
   "cell_type": "code",
   "execution_count": 2,
   "metadata": {},
   "outputs": [],
   "source": [
    "# sentences = df['Overview']\n",
    "# h.compute_similarity(0, sentences)\n",
    "\n",
    "# df['similar_movies'] = pd.Series(df.index).apply(lambda x: h.compute_similarity(x, df['Overview']))\n",
    "# df['similar_movies']"
   ]
  },
  {
   "cell_type": "code",
   "execution_count": 3,
   "metadata": {},
   "outputs": [
    {
     "data": {
      "text/plain": [
       "array([[-0.42897072,  0.39082983,  1.4352702 , ...,  0.8727772 ,\n",
       "        -0.27758625, -0.52901405],\n",
       "       [-0.31057072,  0.7643628 ,  0.72591037, ..., -0.5141307 ,\n",
       "        -0.23639445, -0.29770607],\n",
       "       [-0.5239642 ,  0.2013199 ,  0.32214215, ..., -0.29536867,\n",
       "        -0.31208324, -0.51214534],\n",
       "       ...,\n",
       "       [-0.6130735 ,  0.62725097, -0.10875668, ..., -0.10114583,\n",
       "         0.1711134 , -0.06715756],\n",
       "       [-0.5834191 ,  0.05922156, -0.9729282 , ..., -0.59030604,\n",
       "         0.17073274, -0.07679442],\n",
       "       [-0.3590858 ,  0.66717935,  0.75014377, ..., -1.3990557 ,\n",
       "        -0.4917294 ,  0.39107534]], dtype=float32)"
      ]
     },
     "execution_count": 3,
     "metadata": {},
     "output_type": "execute_result"
    }
   ],
   "source": [
    "sentence_embeddings = h.sentence_transformer_similarity(df['title_overview'])\n",
    "sentence_embeddings"
   ]
  },
  {
   "cell_type": "code",
   "execution_count": 4,
   "metadata": {},
   "outputs": [],
   "source": [
    "from sklearn.metrics.pairwise import cosine_similarity\n",
    "def list_similarity_scores(main_index, embeddings):\n",
    "    similarity_scores = cosine_similarity(\n",
    "        [sentence_embeddings[main_index]],\n",
    "        sentence_embeddings)\n",
    "    ranked_list = sorted([(i, x) for i, x in enumerate(similarity_scores[0])], key=lambda x: x[1], reverse=True)\n",
    "    return ranked_list[:10]"
   ]
  },
  {
   "cell_type": "code",
   "execution_count": 5,
   "metadata": {},
   "outputs": [
    {
     "data": {
      "text/plain": [
       "0        [(0, 0.99999976), (532, 0.70702296), (763, 0.70188177), (391, 0.68108857), (267, 0.677529), (282, 0.6744362), (167, 0.6739683), (203, 0.67307293), (88, 0.65801036), (505, 0.65431154)]\n",
       "1             [(1, 0.9999998), (3, 0.80469614), (412, 0.8000324), (238, 0.7922034), (953, 0.7791466), (40, 0.7775347), (172, 0.7746029), (294, 0.77392906), (974, 0.7722475), (560, 0.76852435)]\n",
       "2         [(2, 0.9999999), (853, 0.82114685), (33, 0.8172605), (155, 0.81350625), (768, 0.79885256), (762, 0.78162205), (665, 0.7813777), (339, 0.76401854), (718, 0.7627039), (914, 0.7573785)]\n",
       "3            [(3, 1.0000002), (1, 0.80469614), (664, 0.77557766), (15, 0.7635654), (776, 0.74768996), (71, 0.7476872), (953, 0.7451719), (974, 0.7361406), (710, 0.72593015), (238, 0.72415113)]\n",
       "4             [(4, 1.0000001), (494, 0.7945222), (895, 0.791113), (968, 0.78688437), (800, 0.78515244), (263, 0.7835133), (818, 0.776436), (448, 0.7726635), (113, 0.7704455), (377, 0.7675406)]\n",
       "                                                                                                 ...                                                                                            \n",
       "995       [(995, 0.99999994), (916, 0.770603), (117, 0.76375675), (701, 0.7580451), (425, 0.7497759), (972, 0.7437297), (574, 0.726055), (229, 0.72549355), (533, 0.7241042), (874, 0.72027266)]\n",
       "996    [(996, 0.9999999), (709, 0.7512307), (635, 0.66331255), (896, 0.64400095), (774, 0.6366801), (231, 0.62502646), (773, 0.61606234), (691, 0.6085281), (865, 0.6000632), (269, 0.59154105)]\n",
       "997      [(997, 0.9999999), (98, 0.8098959), (871, 0.79066527), (656, 0.78715026), (818, 0.7857648), (439, 0.7838575), (442, 0.77882606), (50, 0.76807284), (555, 0.7676542), (406, 0.76554835)]\n",
       "998                [(998, 1.0), (873, 0.6701778), (445, 0.6624571), (604, 0.659531), (41, 0.65459), (241, 0.65422344), (511, 0.6502137), (285, 0.64368796), (390, 0.6410695), (179, 0.63956344)]\n",
       "999          [(999, 1.0), (118, 0.83053565), (362, 0.8270986), (931, 0.82273126), (194, 0.82084584), (983, 0.81998694), (768, 0.81786484), (326, 0.8158367), (474, 0.80891025), (55, 0.8055827)]\n",
       "Name: similarity_scores, Length: 1000, dtype: object"
      ]
     },
     "execution_count": 5,
     "metadata": {},
     "output_type": "execute_result"
    }
   ],
   "source": [
    "df['similarity_scores'] = pd.Series(df.index).apply(lambda x: list_similarity_scores(x, df['Overview']))\n",
    "df['similarity_scores']"
   ]
  },
  {
   "cell_type": "code",
   "execution_count": 14,
   "metadata": {},
   "outputs": [
    {
     "data": {
      "text/plain": [
       "[('The Godfather',\n",
       "  \"An organized crime dynasty's aging patriarch transfers control of his clandestine empire to his reluctant son.\"),\n",
       " ('The Godfather: Part II',\n",
       "  'The early life and career of Vito Corleone in 1920s New York City is portrayed, while his son, Michael, expands and tightens his grip on the family crime syndicate.'),\n",
       " ('Kagemusha',\n",
       "  \"A petty thief with an utter resemblance to a samurai warlord is hired as the lord's double. When the warlord later dies the thief is forced to take up arms in his place.\"),\n",
       " ('Munna Bhai M.B.B.S.',\n",
       "  \"A gangster sets out to fulfill his father's dream of becoming a doctor.\"),\n",
       " ('American Psycho',\n",
       "  'A wealthy New York City investment banking executive, Patrick Bateman, hides his alternate psychopathic ego from his co-workers and friends as he delves deeper into his violent, hedonistic fantasies.'),\n",
       " ('American History X',\n",
       "  'A former neo-nazi skinhead tries to prevent his younger brother from going down the same wrong path that he did.'),\n",
       " ('Ran',\n",
       "  'In Medieval Japan, an elderly warlord retires, handing over his empire to his three sons. However, he vastly underestimates how the new-found power will corrupt them and cause them to turn on each other...and him.'),\n",
       " ('Sanjuro',\n",
       "  'A crafty samurai helps a young man and his fellow clansmen save his uncle, who has been framed and imprisoned by a corrupt superintendent.'),\n",
       " ('The Godfather: Part III',\n",
       "  'Follows Michael Corleone, now in his 60s, as he seeks to free his family from crime and find a suitable successor to his empire.'),\n",
       " ('The Big Sleep',\n",
       "  \"Private detective Philip Marlowe is hired by a wealthy family. Before the complex case is over, he's seen murder, blackmail, and what might be love.\")]"
      ]
     },
     "execution_count": 14,
     "metadata": {},
     "output_type": "execute_result"
    }
   ],
   "source": [
    "df['similar_movies'] = pd.Series(df.index).apply(lambda y: [(df['Series_Title'][int(x)], df['Overview'][int(x)]) for x in [x[0] for x in df['similarity_scores'][y]]])\n",
    "df['similar_movies'][1]"
   ]
  },
  {
   "cell_type": "code",
   "execution_count": 8,
   "metadata": {},
   "outputs": [],
   "source": [
    "df[['similar_movies', 'similarity_scores', 'Series_Title',\n",
    " 'Released_Year',\n",
    " 'Certificate',\n",
    " 'Runtime',\n",
    " 'Genre',\n",
    " 'IMDB_Rating',\n",
    " 'Overview',\n",
    " 'Meta_score',\n",
    " 'Director',\n",
    " 'Star1',\n",
    " 'Star2',\n",
    " 'Star3',\n",
    " 'Star4',\n",
    " 'No_of_Votes',\n",
    " 'Gross',\n",
    " 'Poster_Link']].to_csv('similar_movies_df.csv')"
   ]
  },
  {
   "cell_type": "code",
   "execution_count": null,
   "metadata": {},
   "outputs": [],
   "source": []
  }
 ],
 "metadata": {
  "kernelspec": {
   "display_name": "ML",
   "language": "python",
   "name": "ml"
  },
  "language_info": {
   "codemirror_mode": {
    "name": "ipython",
    "version": 3
   },
   "file_extension": ".py",
   "mimetype": "text/x-python",
   "name": "python",
   "nbconvert_exporter": "python",
   "pygments_lexer": "ipython3",
   "version": "3.8.5"
  }
 },
 "nbformat": 4,
 "nbformat_minor": 4
}
